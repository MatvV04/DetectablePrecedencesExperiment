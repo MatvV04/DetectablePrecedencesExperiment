{
 "cells": [
  {
   "cell_type": "code",
   "execution_count": 2,
   "id": "09212e44",
   "metadata": {},
   "outputs": [],
   "source": [
    "import pandas as pd\n",
    "import matplotlib.pyplot as plt\n"
   ]
  },
  {
   "cell_type": "code",
   "execution_count": null,
   "id": "debb8ea3",
   "metadata": {},
   "outputs": [
    {
     "name": "stdout",
     "output_type": "stream",
     "text": [
      "7.199612854211068\n",
      "13.309989725905739\n",
      "18969.06818181818\n"
     ]
    }
   ],
   "source": [
    "dec = pd.read_csv(\"dec_free.csv\", header=None, names=[\"instance\", \"lb\", \"conflicts\", \"lbd\", \"lcl\", \"time\"])\n",
    "\n",
    "print(dec[\"lbd\"].mean())\n",
    "print(dec[\"lcl\"].mean())\n",
    "print(dec[\"conflicts\"].mean())\n",
    "print(dec[\"time\"].mean())"
   ]
  },
  {
   "cell_type": "code",
   "execution_count": null,
   "id": "c2751b38",
   "metadata": {},
   "outputs": [
    {
     "name": "stdout",
     "output_type": "stream",
     "text": [
      "8.770025724729537\n",
      "16.689269865990585\n",
      "9634.59090909091\n"
     ]
    }
   ],
   "source": [
    "lc = pd.read_csv(\"lc_free2_dec.csv\", header=None, names=[\"instance\", \"lb\", \"conflicts\", \"lbd\", \"lcl\", \"time\"])\n",
    "\n",
    "print(lc[\"lbd\"].mean())\n",
    "print(lc[\"lcl\"].mean())\n",
    "print(lc[\"conflicts\"].mean())\n",
    "print(lc[\"time\"].mean())"
   ]
  }
 ],
 "metadata": {
  "kernelspec": {
   "display_name": "Python 3",
   "language": "python",
   "name": "python3"
  },
  "language_info": {
   "codemirror_mode": {
    "name": "ipython",
    "version": 3
   },
   "file_extension": ".py",
   "mimetype": "text/x-python",
   "name": "python",
   "nbconvert_exporter": "python",
   "pygments_lexer": "ipython3",
   "version": "3.10.11"
  }
 },
 "nbformat": 4,
 "nbformat_minor": 5
}
